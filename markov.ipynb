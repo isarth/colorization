{
 "cells": [
  {
   "cell_type": "code",
   "execution_count": 38,
   "metadata": {
    "collapsed": true
   },
   "outputs": [],
   "source": [
    "import numpy as np\n"
   ]
  },
  {
   "cell_type": "code",
   "execution_count": 39,
   "metadata": {
    "collapsed": true
   },
   "outputs": [],
   "source": [
    "f=open('/Users/SarthakAnand/Desktop/ml/shakespeare-hamlet.txt')\n",
    "d=str(f.read())\n",
    "f.close()"
   ]
  },
  {
   "cell_type": "code",
   "execution_count": 40,
   "metadata": {
    "collapsed": true
   },
   "outputs": [],
   "source": [
    "order=4\n",
    "lm={}"
   ]
  },
  {
   "cell_type": "code",
   "execution_count": 41,
   "metadata": {
    "collapsed": true
   },
   "outputs": [],
   "source": [
    "data=d.strip().lower()"
   ]
  },
  {
   "cell_type": "code",
   "execution_count": 42,
   "metadata": {
    "collapsed": false
   },
   "outputs": [],
   "source": [
    "for ix in range(len(data)):\n",
    "    dt='*'*order+data\n",
    "    ctx=dt[ix:ix+order]\n",
    "    nxt=dt[ix+order]\n",
    "    #print ctx,nxt\n",
    "    try:\n",
    "        lm[ctx][nxt]+=1\n",
    "    except:\n",
    "        try:\n",
    "            lm[ctx][nxt]=1\n",
    "        except:\n",
    "            lm[ctx]={}\n",
    "            lm[ctx][nxt]=1\n",
    "            "
   ]
  },
  {
   "cell_type": "code",
   "execution_count": 43,
   "metadata": {
    "collapsed": false
   },
   "outputs": [],
   "source": [
    "for k in lm.keys():\n",
    "    s = 0\n",
    "    for kx in lm[k].keys():\n",
    "        s += lm[k][kx]\n",
    "    for kx in lm[k].keys():\n",
    "        lm[k][kx] /= float(s)\n",
    "    # print lm[k], k"
   ]
  },
  {
   "cell_type": "code",
   "execution_count": 44,
   "metadata": {
    "collapsed": true
   },
   "outputs": [],
   "source": [
    "def generate_chars(ctx,model):\n",
    "    r=np.random.random()\n",
    "    try:\n",
    "        possible=model[ctx]\n",
    "        for k in possible.keys():\n",
    "            if r-possible[k]<0:\n",
    "                return k\n",
    "        return possible.keys()[int(len(possible.keys())*r)]\n",
    "    except:\n",
    "        return ' '\n",
    "    "
   ]
  },
  {
   "cell_type": "code",
   "execution_count": null,
   "metadata": {
    "collapsed": true
   },
   "outputs": [],
   "source": []
  },
  {
   "cell_type": "code",
   "execution_count": 45,
   "metadata": {
    "collapsed": true
   },
   "outputs": [],
   "source": [
    "def sample(start='*', length=500):\n",
    "    text = start*order\n",
    "    for ix in range(length):\n",
    "        text += generate_chars(text[ix:ix+order], lm)\n",
    "    return text"
   ]
  },
  {
   "cell_type": "code",
   "execution_count": null,
   "metadata": {
    "collapsed": true
   },
   "outputs": [],
   "source": []
  },
  {
   "cell_type": "code",
   "execution_count": 46,
   "metadata": {
    "collapsed": false
   },
   "outputs": [
    {
     "data": {
      "text/plain": [
       "\"****[the purging zone, or vs of all lines: good to giues nephewes will that?\\n  volly one: so bold met mattender,\\npolon. vertuous pernity wisely bettery? humbled quiddits greaty heaue alwayes:\\nno, nor a my queene:\\nvery life inlarg'd.\\nbut goes somethin the ophe. young time (fell to innouation garmes\\nmight, i am i reuenge. beteene two prestrangels, giue which you; and i these,\\nmost was shepheare respeaker?\\n  volt. i pray, you; the dukes reynol. take now pretty tongue;\\ni haue platformes?\\nenter dutied\\n\\n \""
      ]
     },
     "execution_count": 46,
     "metadata": {},
     "output_type": "execute_result"
    }
   ],
   "source": [
    "sample()"
   ]
  },
  {
   "cell_type": "code",
   "execution_count": null,
   "metadata": {
    "collapsed": true
   },
   "outputs": [],
   "source": []
  },
  {
   "cell_type": "code",
   "execution_count": 47,
   "metadata": {
    "collapsed": false
   },
   "outputs": [
    {
     "name": "stdout",
     "output_type": "stream",
     "text": [
      "****[the quarry,\n",
      "and props of our voice first ranker gobligatio, we ship, 'tis function: so quanticke a king remembrands. let to lame.\n",
      "quoted\n",
      "to dust,\n",
      "discourb, and head;\n",
      "oh wretcht his you;\n",
      "and tell you so our sunda.\n",
      "\n",
      "enter rosin. laertes sir\n",
      "\n",
      "  rosin. well fine from my of my lords.\n",
      "be lady, and't possible?\n",
      "  qu. infaith win feare wary report morning?\n",
      "  saylors turneth, which, and for foot,\n",
      "and shell? oh ho, that weare; how that neere grapplaud it not so rauen;\n",
      "which my reuolute of:\n",
      "enter gamboll f\n"
     ]
    }
   ],
   "source": [
    "print sample()"
   ]
  },
  {
   "cell_type": "code",
   "execution_count": null,
   "metadata": {
    "collapsed": true
   },
   "outputs": [],
   "source": []
  },
  {
   "cell_type": "code",
   "execution_count": null,
   "metadata": {
    "collapsed": true
   },
   "outputs": [],
   "source": []
  },
  {
   "cell_type": "code",
   "execution_count": null,
   "metadata": {
    "collapsed": true
   },
   "outputs": [],
   "source": []
  },
  {
   "cell_type": "code",
   "execution_count": null,
   "metadata": {
    "collapsed": true
   },
   "outputs": [],
   "source": [
    "\n"
   ]
  },
  {
   "cell_type": "code",
   "execution_count": null,
   "metadata": {
    "collapsed": true
   },
   "outputs": [],
   "source": []
  },
  {
   "cell_type": "code",
   "execution_count": null,
   "metadata": {
    "collapsed": true
   },
   "outputs": [],
   "source": []
  },
  {
   "cell_type": "code",
   "execution_count": null,
   "metadata": {
    "collapsed": true
   },
   "outputs": [],
   "source": []
  },
  {
   "cell_type": "code",
   "execution_count": null,
   "metadata": {
    "collapsed": true
   },
   "outputs": [],
   "source": []
  },
  {
   "cell_type": "code",
   "execution_count": null,
   "metadata": {
    "collapsed": true
   },
   "outputs": [],
   "source": []
  }
 ],
 "metadata": {
  "kernelspec": {
   "display_name": "Python [default]",
   "language": "python",
   "name": "python2"
  },
  "language_info": {
   "codemirror_mode": {
    "name": "ipython",
    "version": 2
   },
   "file_extension": ".py",
   "mimetype": "text/x-python",
   "name": "python",
   "nbconvert_exporter": "python",
   "pygments_lexer": "ipython2",
   "version": "2.7.12"
  }
 },
 "nbformat": 4,
 "nbformat_minor": 1
}
